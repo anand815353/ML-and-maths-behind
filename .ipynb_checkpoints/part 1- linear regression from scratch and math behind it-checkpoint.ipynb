{
 "cells": [
  {
   "cell_type": "markdown",
   "metadata": {},
   "source": [
    "# 1. Learning problem"
   ]
  },
  {
   "cell_type": "markdown",
   "metadata": {},
   "source": [
    "##### A computer program learns from experiance (E) with respect to some task (T) and some performance measure (P).\n",
    "Example:-   \n",
    "Task (T):               classifying email is spam or not.  \n",
    "Experience(E):          watching labels of email.  \n",
    "Performance measurment: Number of Emails correctly classified or not."
   ]
  },
  {
   "cell_type": "markdown",
   "metadata": {},
   "source": [
    "# 2. Types of Data science Problem "
   ]
  },
  {
   "cell_type": "markdown",
   "metadata": {},
   "source": [
    "Any Data Science Problem falls in One of 3 categories (not in its entirety also most often) \n",
    "### 1) Regression Problems \n",
    "### 2) Classification Problems\n",
    "### 3) Clustering Problems\n",
    "### Sub Problems\n",
    "        • Dimensionality Reduction  \n",
    "        • Anomly Detection\n",
    "        • Association\n",
    "        • Pattern Detection ...& more."
   ]
  },
  {
   "cell_type": "markdown",
   "metadata": {},
   "source": [
    "# 3. Three main types of Machine Learning Approch\n",
    "### 1) Supervised Learning  \n",
    "        • Algoithms look at labeled data in training set and learns to map the input to output.  \n",
    "        • Each example is labeled hence supervised by tutor.  \n",
    "        • The aim of the supervised learning algorithm is to use the training Dataset and output a hypothesis function\n",
    "        \n",
    "### 2) Unsupervised Learning\n",
    "        • No labels are provided in training data set.  \n",
    "        • Algorithms looks at data clulessly and tries to find structure in the data.  \n",
    "        • Data with similar realtionship with variables are grouped together(aka clustering).  \n",
    "        • Finding patterns in data which are more often- staticians call it density estimation. \n",
    "        \n",
    "### 3) Reinforcement learning\n",
    "       • Algorithm learns by interacting with the environment and gives feedback by reward or punishment.\n",
    "       \n",
    "  ##### Note: unsupervised learning also provides feedback but goals are different!\n",
    "     • In unsupervised goal is to find simialrities and dissimilarities in data set.\n",
    "     • While In reinforcemnet Learning Goal is to find suitable set of actions that would maximize the cumulative reward.\n",
    "       \n",
    "       \n",
    "# Not to confuse ML with Deep Learning!\n",
    "#####    Deep learning is all about using high scalable algorithms to build models which are complex and difficult for machine learning algorithms like logistic regression, support vector machine e.t.c, to model.  \n",
    "\n",
    "![title](images/img1.png \"ML vs Deep Learning\")\n",
    "                                "
   ]
  },
  {
   "cell_type": "markdown",
   "metadata": {},
   "source": [
    "# more types\n",
    "### 4) Hybrid Learning \n",
    "        • Semi supervised Learning\n",
    "        • Self Supervised Learning\n",
    "        • Multi instance Learning\n",
    "### 5) Statical Inference\n",
    "        • Inductive Learning\n",
    "        • Deductive Learning\n",
    "        • Transductive Learning\n",
    "### 6) some more notable learning techniques\n",
    "        • Multi task learning\n",
    "        • Active Learning\n",
    "        • Online Learning\n",
    "        • Transfer Learning\n",
    "        • Ensemble Learning"
   ]
  },
  {
   "cell_type": "markdown",
   "metadata": {},
   "source": [
    "# 4. Model Representation"
   ]
  },
  {
   "cell_type": "markdown",
   "metadata": {},
   "source": [
    "Model: A machine learning model can be a mathematical representation of a real-world process. To generate a machine learning model training data is fed to a machine learning algorithm to learn from data.  \n",
    "  \n",
    "    • X <--- is input variable(independent)  \n",
    "    • Y <--- is output variable(dependent)  \n",
    "    • h <--- is hypothesis or learning function basically takes the input instance and predicts the output based on its learnings from the training dataset.  \n",
    "  \n",
    "  \n",
    "##### \" f(x)=Y \"   a mathematical analogy to ML model i.e for some value of X the model gives output Y  \n",
    "  \n",
    "![title](images/img2.png \"Model representation\")  \n",
    "\n",
    "Almost all science is about fitting models to data.  \n",
    "Experimentation to collect data and make obesrvations.  \n",
    "Make models to explain those obervations aka Induction.  \n",
    "conclusion reached from obeservation and learning from that is called estimation.  \n"
   ]
  },
  {
   "cell_type": "markdown",
   "metadata": {},
   "source": [
    "# 5. Supervised Approch on Data Science Problems\n",
    "    1) Regression  ( output is continious i.e any real number)\n",
    "    2) classification (discreet valued output )  \n",
    "    \n",
    "    clustering Problems are about basically finding hidden relationship between data hence supervised approch plays less of a significance"
   ]
  },
  {
   "cell_type": "markdown",
   "metadata": {},
   "source": [
    "# 6. [Simple linear regression]( https://365datascience.com/linear-regression/)(continious value output )"
   ]
  },
  {
   "cell_type": "markdown",
   "metadata": {},
   "source": [
    "    • It is an approch to model the linear relationship between dependent variable (Y) and independent variable (X).\n",
    "    \n",
    "    • Simple linear regression uses one independent variable to pridict the outcome of dependent variable.\n",
    "    \n",
    "    • While Multiple regression uses two or more independent variables to pridict outcome"
   ]
  },
  {
   "cell_type": "markdown",
   "metadata": {},
   "source": [
    "## 6.1 Intution of simple linear regression\n",
    "### 6.1.1 Equation of straight line\n",
    "### or the famous REGRESSION LINE if it best fits the data\n",
    "![title](images/img3.png \"equation of straight line\")"
   ]
  },
  {
   "cell_type": "markdown",
   "metadata": {},
   "source": [
    "#  Problem \n",
    "## Given a set of examples of X and Y, for every new X,  is it possible to predict Y?\n",
    "<img src=\"images/img4.png\" alt=\"simple linear regression solution\" style=\"width: 600px;\"/>\n",
    "\n",
    "#### A regression line is simply a single line that best fits the data. \n",
    "#### What's best fit? A straight line with the least distance from each point.\n",
    "#### How to do that?  Move the straight line either by postioning it better in the graph and or rotating it at a certain angle(degree). \n"
   ]
  },
  {
   "cell_type": "markdown",
   "metadata": {},
   "source": [
    "### 6.1.2 Fitting the data Manually "
   ]
  },
  {
   "cell_type": "code",
   "execution_count": 1,
   "metadata": {},
   "outputs": [],
   "source": [
    "import numpy as np\n",
    "import pandas as pd\n",
    "import matplotlib as mpl                   #importing libraries\n",
    "import matplotlib.pylab as plt"
   ]
  },
  {
   "cell_type": "code",
   "execution_count": 2,
   "metadata": {},
   "outputs": [],
   "source": [
    "# cordinates of two points\n",
    "x=[6,2]  #holds x-cordinates of both  points\n",
    "y=[3,3]  #holds y-cordinates of both points"
   ]
  },
  {
   "cell_type": "code",
   "execution_count": 3,
   "metadata": {},
   "outputs": [
    {
     "data": {
      "image/png": "[encoded data removed]",
      "text/plain": [
       "<Figure size 432x288 with 1 Axes>"
      ]
     },
     "metadata": {
      "needs_background": "light"
     },
     "output_type": "display_data"
    }
   ],
   "source": [
    "ax,fig = plt.subplots()\n",
    "ax=plt.scatter(x,y, s=70, marker=\"o\" ,color='m')  #plots the two points \n",
    "\n",
    "# A straight line which needs to be at least distance from each point to become a regression line.\n",
    "ax=plt.plot((0,6),(6,0))  "
   ]
  },
  {
   "cell_type": "markdown",
   "metadata": {},
   "source": [
    "#### It is clear that regression line should be a vertical line"
   ]
  },
  {
   "cell_type": "code",
   "execution_count": 4,
   "metadata": {},
   "outputs": [
    {
     "data": {
      "image/png": "[encoded data removed]",
      "text/plain": [
       "<Figure size 432x288 with 1 Axes>"
      ]
     },
     "metadata": {
      "needs_background": "light"
     },
     "output_type": "display_data"
    }
   ],
   "source": [
    "ax,fig = plt.subplots()\n",
    "ax=plt.scatter(x,y, s=70, marker=\"o\" ,color='m')  #plots the two points\n",
    "\n",
    "# A straight line which needs to be at least distance from each point to become a regression line.\n",
    "ax=plt.plot((0,0),(0,6)) "
   ]
  },
  {
   "cell_type": "markdown",
   "metadata": {},
   "source": [
    "####  least distance from each point would be 6-2=4, so vertical line should be at 4th position in  x-axis"
   ]
  },
  {
   "cell_type": "code",
   "execution_count": 5,
   "metadata": {},
   "outputs": [
    {
     "data": {
      "image/png": "[encoded data removed]",
      "text/plain": [
       "<Figure size 432x288 with 1 Axes>"
      ]
     },
     "metadata": {
      "needs_background": "light"
     },
     "output_type": "display_data"
    }
   ],
   "source": [
    "ax,fig = plt.subplots()\n",
    "ax=plt.scatter(x,y, s=70, marker=\"o\" ,color='m')  #plots the two points\n",
    "\n",
    "# Straight line fits the data\n",
    "ax=plt.plot((4,4),(0,6)) "
   ]
  },
  {
   "cell_type": "markdown",
   "metadata": {},
   "source": [
    "## 6.2 Hypothesis Function\n",
    "##### To pridict\"Y\" values (dependent variable)  from the value of \"X\" values (single independent variable)\n",
    "\n",
    "#####  m is gradient or slope c is intercept\n",
    "##### \"mx+c\" \n",
    "    Is a hypothesis in ML aka Mapping function or intuitively a relationship with which if 'x' is known we can predict straight line 'y' by sucessfully adjusting slope 'm' and intercept 'c'.\n",
    "    \n",
    "##### \"y=mx+c \"\n",
    "    Is the Model"
   ]
  },
  {
   "cell_type": "markdown",
   "metadata": {},
   "source": [
    "##### The Hypothesis Function is the exact straight line function written in language of god's.\n",
    "<img src=\"images/img5.png\" alt=\"Hypothesis Function\" style=\"width: 600px;\"/>"
   ]
  },
  {
   "cell_type": "markdown",
   "metadata": {},
   "source": [
    "## 6.3 Mean Squared Error"
   ]
  },
  {
   "cell_type": "markdown",
   "metadata": {},
   "source": [
    "##### LInear Regression tries to approximate the relationship between dependent and independent variables in a straight line. Approximation leads to errors."
   ]
  },
  {
   "cell_type": "markdown",
   "metadata": {},
   "source": [
    "![title](images/img6.png \"MSE\")"
   ]
  },
  {
   "cell_type": "markdown",
   "metadata": {},
   "source": [
    "#####  The diffrence between actual line and predicted line for each data and average them we get MEAN SQUARED ERROR. \n",
    "## 6.4 Cost Function\n",
    "    aka loss function or error function.\n",
    "##### It is used to estimate how good or bad a model is? i.e.  a measure of how wrong a model is in terms of its ability to estimate the relationship Input (X) and output (y)\n",
    "    Some Important cost Functions:\n",
    "        • Sum of Squared Residuals (SSR/SSE)\n",
    "        • Root Mean Squared Error (RMSE)\n",
    "        • Mean Squared Error (MSE)\n",
    "        \n",
    "        \n",
    "##### Idea is to find best values of Parameters i.e for  theta 0 and  theta 1 to minimizing the Cost Function\n",
    "##### How? Start with some random value for Theta 0 and Theta 1 and keep changing their values untill we end up with a value of J(Theta 0 , Theta 1) which is minimum\n",
    "<img src=\"images/img7.png\" alt=\"cost Function\" style=\"width: 800px;\"/>"
   ]
  },
  {
   "cell_type": "markdown",
   "metadata": {},
   "source": [
    "## 6.5 Partial Derivative\n",
    "#### Multivariate calculas : Multivariate calculus is a part of calculus which involves multiple variables.\n",
    "<img src=\"images/img10.png\" alt=\"Univariate vs Multivariate\" style=\"width: 500px;\"/>\n",
    "\n",
    "    Most of the machine learning algorithms are trained on multiple features (variables) therefore understanding of how multivariate calculus works is crucial.\n",
    "  \n",
    "#### Solving Multivariate Calculus\n",
    "##### 1. Partial Derivative --  Find the derivative of the function with respect to one of those variables and keep all other variables constant.\n",
    "##### 2. Total derivative -- Change all of the variables and find the derivative\n",
    "\n",
    "##### Partial derivative example:\n",
    "<img src=\"images/img11.png\" alt=\"Partial Derivative\" style=\"width: 800px;\"/>"
   ]
  },
  {
   "cell_type": "markdown",
   "metadata": {},
   "source": [
    "## 6.6 Error Minimization Problem\n",
    "#### COST FUNCTION is a Minimization(optmization) Problem\n",
    "    In linear regression, aim is to fit the actual values as closely as possible.\n",
    "    By using difference between the predicted and actual values i.e. loss (or cost) function.\n",
    "    This loss function could be based on the mean squared error or root mean squared error algorithms seen in 6.3.\n",
    "\n",
    "##### We are going to repeat this until the loss function reaches the minimum value and converges to accceptable levels. This is achieved by using gradient descent algorithm which internally depends on the techniques of multivariate partial derivative seen in 6.5."
   ]
  },
  {
   "cell_type": "markdown",
   "metadata": {},
   "source": [
    "### 6.6.1 Gradient Descent\n",
    "#### gradient descent (GD), is used for finding minima and/or maxima of a function. In this case the function is the cost function of Simple linear regression.   \n",
    "\n",
    "Maxima plural of maximum  \n",
    "Minima plural of minimum  \n",
    "\n",
    "<img src=\"images/img8.png\" alt=\"Gradiant Descent Algorithm in terms of Cost Function\" style=\"width: 1200px;\"/>\n"
   ]
  },
  {
   "cell_type": "markdown",
   "metadata": {},
   "source": [
    "### 6.6.2 Learning rate \n",
    "        aka step size to determine next point.\n",
    "##### If point A is 4 and learning rate is is 0.2 then next point would be (4+0.2=) 4.2 or (4-0.2=) 3.8 depnding on whether we have to find maxima or minima. \n",
    "        Learning rate is one of many Hyperparameters used to Optimize Ml algorithm.\n",
    "        Hyperparameters can be changed to manage the trade off between accuracy and time taken for computation.\n",
    "        What's the point? of building a system which takes a year to compute but 100% accurate.\n",
    "        \n",
    "<img src=\"images/img12.png\" alt=\"Small learning rate\" style=\"width: 800px;\"/>\n",
    "<img src=\"images/img13.png\" alt=\"large learning rate\" style=\"width: 800px;\"/>\n",
    "<img src=\"images/img14.png\" alt=\"Optimal learning rate\" style=\"width: 800px;\"/>"
   ]
  },
  {
   "cell_type": "markdown",
   "metadata": {},
   "source": [
    "## 6.7 Implementation of Simple Linear Regression from Scratch"
   ]
  },
  {
   "cell_type": "markdown",
   "metadata": {},
   "source": [
    "    Algo :\n",
    "    1) Initialize theta 0 and theta 1 values.\n",
    "    2) Initialize learning rate(alpha) and desired number of iterations.\n",
    "    3) loop for number of iterations.\n",
    "    4) Initialize the variables which will hold the error for a particular iteration.\n",
    "    5) Calculates prediction of y using equation of line.\n",
    "    6) Calculate cost function by subtracting \"actual Y\" with \"predicted Y\"\n",
    "    7) append it to the error array.\n",
    "    8) Calculate partial derivatives with respect to theta 0.\n",
    "    9) Calculate partial derivatives with respect to theta 1.\n",
    "    10) Increase the cost of both coefficients temp_theta_0 and temp_theta_1.\n",
    "    11) Update the values of theta 0 and theta 1."
   ]
  },
  {
   "cell_type": "code",
   "execution_count": 6,
   "metadata": {},
   "outputs": [
    {
     "data": {
      "text/plain": [
       "array([2, 4, 5, 7, 9])"
      ]
     },
     "execution_count": 6,
     "metadata": {},
     "output_type": "execute_result"
    }
   ],
   "source": [
    "X = np.array([2,4,5,7,9]) #holds x-cordinates of data points\n",
    "X"
   ]
  },
  {
   "cell_type": "code",
   "execution_count": 7,
   "metadata": {},
   "outputs": [
    {
     "data": {
      "text/plain": [
       "array([3.2 , 4.64, 5.9 , 7.16, 9.5 ])"
      ]
     },
     "execution_count": 7,
     "metadata": {},
     "output_type": "execute_result"
    }
   ],
   "source": [
    "Y = np.array([3.2, 4.64, 5.9, 7.16, 9.5]) #holds y-cordinates of data points\n",
    "Y"
   ]
  },
  {
   "cell_type": "code",
   "execution_count": 8,
   "metadata": {
    "scrolled": true
   },
   "outputs": [
    {
     "data": {
      "text/plain": [
       "<matplotlib.collections.PathCollection at 0x1e6e8291048>"
      ]
     },
     "execution_count": 8,
     "metadata": {},
     "output_type": "execute_result"
    },
    {
     "data": {
      "image/png": "[encoded data removed]",
      "text/plain": [
       "<Figure size 432x288 with 1 Axes>"
      ]
     },
     "metadata": {
      "needs_background": "light"
     },
     "output_type": "display_data"
    }
   ],
   "source": [
    "plt.scatter(X,Y) #ploting data points"
   ]
  },
  {
   "cell_type": "code",
   "execution_count": 9,
   "metadata": {},
   "outputs": [],
   "source": [
    "theta_0=0.0         #inializing theta 0 of hypothesis function i.e. same as intercept c of staright line equation \n",
    "theta_1=1.0         #inializing theta 1 of hypothesis function i.e. same as slope m of staright line equation\n",
    "alpha=0.001         #intializing learning rate\n",
    "iterations=100      #intializing no of iterations\n",
    "error=[]            #will store overall error after each iterations\n",
    "\n",
    "\n",
    "for itr in range(iterations): #will loop for 100 times\n",
    "    error_cost=0.0               #inializing cost function\n",
    "    temp_theta_0 = 0.0           #inializing temporary theta 0 for simultaneous update of gradient descent\n",
    "    temp_theta_1 = 0.0           #inializing temporary theta 1 for simultaneous update of gradient descent\n",
    "    \n",
    "    for i in range(len(X)):\n",
    "        \n",
    "        predict_Y = theta_0+theta_1*X[i]   # calculates prediction of y using equation of line\n",
    "        \n",
    "        error_cost = (error_cost + (Y[i] -predict_Y)**2)   #calculates cost function by subtracting \"actual Y\" by \"pridicted Y\"   \n",
    "        \n",
    "        for j in range(len(X)):     #loop to calculate gradient descent\n",
    "            \n",
    "            partial_dwrt_theta_0 = -2 * (Y[j] - (theta_0 + theta_1*X[j]))             #partial derivative with respect to theta 0(intercept c) \n",
    "            partial_dwrt_theta_1 = (-2 * (Y[j] * (Y[j] - (theta_0 + theta_1*X[j]))))  #partial derivative with respect to theta 1(slope m)\n",
    "            \n",
    "            \n",
    "            temp_theta_0 += partial_dwrt_theta_0     # temp theta 0 for simultaneous update\n",
    "            temp_theta_1 += partial_dwrt_theta_1     # temp theta 1 for simultaneous update\n",
    "        \n",
    "        \n",
    "        theta_0 = theta_0 - alpha*temp_theta_0  #calculates/estimates theta 0(intercept c) for regression line using gradient descent\n",
    "        theta_1 = theta_1 - alpha*temp_theta_1  #calculates/estimates theta 1(slope m) for regression line using gradient descent\n",
    "                                            \n",
    "    error.append(error_cost)  #stores error occured in each iteration"
   ]
  },
  {
   "cell_type": "code",
   "execution_count": 11,
   "metadata": {},
   "outputs": [
    {
     "data": {
      "text/plain": [
       "1.0657353429933716"
      ]
     },
     "execution_count": 11,
     "metadata": {},
     "output_type": "execute_result"
    }
   ],
   "source": [
    "theta_0"
   ]
  },
  {
   "cell_type": "code",
   "execution_count": 12,
   "metadata": {},
   "outputs": [
    {
     "data": {
      "text/plain": [
       "0.8893316100780022"
      ]
     },
     "execution_count": 12,
     "metadata": {},
     "output_type": "execute_result"
    }
   ],
   "source": [
    "theta_1"
   ]
  },
  {
   "cell_type": "code",
   "execution_count": 13,
   "metadata": {},
   "outputs": [
    {
     "data": {
      "text/plain": [
       "array([2.84439856, 4.62306178, 5.51239339, 7.29105661, 9.06971983])"
      ]
     },
     "execution_count": 13,
     "metadata": {},
     "output_type": "execute_result"
    }
   ],
   "source": [
    "new_predict_Y = theta_0 + theta_1*X\n",
    "new_predict_Y   # predicts regression line"
   ]
  },
  {
   "cell_type": "code",
   "execution_count": 21,
   "metadata": {
    "scrolled": true
   },
   "outputs": [
    {
     "data": {
      "text/plain": [
       "[<matplotlib.lines.Line2D at 0x1e6e99202c8>]"
      ]
     },
     "execution_count": 21,
     "metadata": {},
     "output_type": "execute_result"
    },
    {
     "data": {
      "image/png": "[encoded data removed]",
      "text/plain": [
       "<Figure size 432x288 with 1 Axes>"
      ]
     },
     "metadata": {
      "needs_background": "light"
     },
     "output_type": "display_data"
    }
   ],
   "source": [
    "plt.scatter(X,Y)                # plots data points\n",
    "plt.plot(X,new_predict_Y ,color=\"red\", label='Regression line')       # plots regression line "
   ]
  },
  {
   "cell_type": "code",
   "execution_count": 34,
   "metadata": {},
   "outputs": [
    {
     "data": {
      "text/plain": [
       "11.737714663929399"
      ]
     },
     "execution_count": 34,
     "metadata": {},
     "output_type": "execute_result"
    }
   ],
   "source": [
    "theta_0 + theta_1*12    #output is predicted y value when x is 12"
   ]
  },
  {
   "cell_type": "code",
   "execution_count": 20,
   "metadata": {},
   "outputs": [
    {
     "data": {
      "text/plain": [
       "Text(0, 0.5, 'error')"
      ]
     },
     "execution_count": 20,
     "metadata": {},
     "output_type": "execute_result"
    },
    {
     "data": {
      "image/png": "[encoded data removed]",
      "text/plain": [
       "<Figure size 1152x576 with 1 Axes>"
      ]
     },
     "metadata": {
      "needs_background": "light"
     },
     "output_type": "display_data"
    }
   ],
   "source": [
    "   #Plot the error for each iteration. \n",
    "plt.figure(figsize=(16,8))\n",
    "plt.plot(np.arange(1,len(error)+1),error,color=\"green\",linewidth=2)\n",
    "plt.title(\"ITR vs Error\")\n",
    "plt.xlabel(\"Iter\")\n",
    "plt.ylabel(\"error\")"
   ]
  },
  {
   "cell_type": "markdown",
   "metadata": {},
   "source": [
    "## 6.8 Applications of linear Regression\n",
    "    Linear Regression is a very powerful statistical technique and can be used to generate insight on consumer behaviour, understanding business and factors influencing profitability. \n",
    "    \n",
    "##### 1. Forcasting\n",
    "    Linear regressions can be used in business to evaluate trends and make estimates or forecasts. For example, if a company’s sales have increased steadily every month for the past few years, by conducting a linear analysis on the sales data with monthly sales, the company could forecast sales in future months.\n",
    "\n",
    "##### 2. Analyzing the Impact \n",
    "    Linear regression enables us to capture the isolated impacts of each of the marketing strategy(discounts, offers..etc.) along with controlling the factors that could influence the sales.\n",
    "\n",
    "##### 3. Assessing Risk\n",
    "    Linear Regression can be also used to assess risk in financial services or insurance domain. For example, a car insurance company might conduct a linear regression to come up with a suggested premium table using predicted claims to Insured Declared Value ratio. The risk can be assessed based on the attributes of the car, driver information or demographics. The results of such an analysis might guide important business decisions.\n",
    "    \n",
    "    many more..."
   ]
  },
  {
   "cell_type": "markdown",
   "metadata": {},
   "source": [
    "## 6.9 Simple linear regression using sciket-learn"
   ]
  },
  {
   "cell_type": "code",
   "execution_count": 23,
   "metadata": {},
   "outputs": [],
   "source": [
    "import numpy as np\n",
    "from sklearn.linear_model import LinearRegression"
   ]
  },
  {
   "cell_type": "code",
   "execution_count": 26,
   "metadata": {},
   "outputs": [
    {
     "name": "stdout",
     "output_type": "stream",
     "text": [
      "[2 4 5 7 9] [3.2  4.64 5.9  7.16 9.5 ]\n"
     ]
    }
   ],
   "source": [
    "print(X,Y) #data set"
   ]
  },
  {
   "cell_type": "markdown",
   "metadata": {},
   "source": [
    "##### model.score() [explanation](https://www.kaggle.com/getting-started/27261) thanx to [Francesc Sala](https://www.kaggle.com/francescsala)\n",
    "\n",
    "A. predictor.score(X,Y) internally calculates Y'=predictor.predict(X) and then compares Y' against Y to give an accuracy measure. This applies not only to logistic regression but to any other model.\n",
    "\n",
    "B. logreg.score(X_train,Y_train) is measuring the accuracy of the model against the training data. (How well the model explains the data it was trained with). <-- But note that this has nothing to do with test data.\n",
    "\n",
    "C. logreg.score(X_test, Y_test) is equivalent to your print(classification_report(Y_test, Y_pred)). But you do not need to calculate Y_pred; that is done internally by the library"
   ]
  },
  {
   "cell_type": "code",
   "execution_count": 33,
   "metadata": {
    "scrolled": false
   },
   "outputs": [
    {
     "name": "stdout",
     "output_type": "stream",
     "text": [
      "score:  0.9890487274392338\n",
      "Intercept:  1.2865753424657544\n",
      "Slope:  [0.88767123]\n"
     ]
    }
   ],
   "source": [
    "X=X.reshape((-1,1))       #input array is required to be in two-dimensional(X here is called regressors)\n",
    "model=LinearRegression() #creates the model\n",
    "\n",
    "model.fit(X,Y)  #fit()-fits the model, Calculate the optimal values of the weights theta 0 and theta 1.\n",
    "\n",
    "score=model.score(X,Y)  #scores the prediction\n",
    "print(\"score: \", score)                    #prints score\n",
    "print(\"Intercept: \", model.intercept_)     #prints theta 0\n",
    "print(\"Slope: \", model.coef_)              #prints theta 1"
   ]
  },
  {
   "cell_type": "code",
   "execution_count": 32,
   "metadata": {},
   "outputs": [
    {
     "name": "stdout",
     "output_type": "stream",
     "text": [
      "Intercept from scratch implentation in 6.7 is :  1.0657353429933716\n",
      "Slope from scratch implentation in 6.7 is :  0.8893316100780022\n"
     ]
    }
   ],
   "source": [
    "print(\"Intercept from scratch implentation in 6.7 is : \",theta_0)   \n",
    "print(\"Slope from scratch implentation in 6.7 is : \",theta_1)\n",
    "# our from scratch model was quite close"
   ]
  },
  {
   "cell_type": "markdown",
   "metadata": {},
   "source": [
    "## 6.10 Comparing predictions of both model using test set"
   ]
  },
  {
   "cell_type": "code",
   "execution_count": 36,
   "metadata": {},
   "outputs": [
    {
     "data": {
      "text/plain": [
       "array([ 9, 12, 21,  0, 37, 44])"
      ]
     },
     "execution_count": 36,
     "metadata": {},
     "output_type": "execute_result"
    }
   ],
   "source": [
    "test_set=np.array([9,12,21,0,37,44,])\n",
    "test_set"
   ]
  },
  {
   "cell_type": "code",
   "execution_count": 43,
   "metadata": {},
   "outputs": [
    {
     "name": "stdout",
     "output_type": "stream",
     "text": [
      "predicted response from sciket learn: \n",
      "  [ 9.27561644 11.93863014 19.92767123  1.28657534 34.13041096 40.34410959]\n",
      "\n",
      "\n",
      " predicted response from scratch model: \n",
      " [ 8.8933161  11.56131093 19.56529542  0.88933161 33.79460118 40.01992245]\n",
      "\n",
      "\n",
      " differnece in prediction: \n",
      " [0.38230034 0.37731921 0.36237581 0.39724373 0.33580978 0.32418714]\n"
     ]
    }
   ],
   "source": [
    "Y_4m_test_model_sciket= model.predict(test_set.reshape(-1,1))\n",
    "Y_4m_test_model_scratch= theta_1 + theta_1*test_set\n",
    "print('predicted response from sciket learn: \\n ',Y_4m_test_model_sciket)\n",
    "print('\\n\\n predicted response from scratch model: \\n',Y_4m_test_model_scratch)\n",
    "print('\\n\\n differnece in prediction: \\n',Y_4m_test_model_sciket-Y_4m_test_model_scratch)"
   ]
  },
  {
   "cell_type": "code",
   "execution_count": 57,
   "metadata": {
    "scrolled": false
   },
   "outputs": [
    {
     "data": {
      "text/plain": [
       "<matplotlib.legend.Legend at 0x1e6ed5ab608>"
      ]
     },
     "execution_count": 57,
     "metadata": {},
     "output_type": "execute_result"
    },
    {
     "data": {
      "image/png": "[encoded data removed]",
      "text/plain": [
       "<Figure size 2160x1008 with 1 Axes>"
      ]
     },
     "metadata": {
      "needs_background": "light"
     },
     "output_type": "display_data"
    }
   ],
   "source": [
    "plt.rcParams['figure.figsize']=[30,14]\n",
    "plt.scatter(test_set,Y_4m_test_model_sciket,color=\"blue\")                \n",
    "plt.plot(test_set,Y_4m_test_model_sciket ,color=\"red\", label='scikit learn Regression line') \n",
    "\n",
    "plt.scatter(test_set,Y_4m_test_model_scratch,color=\"black\")\n",
    "plt.plot(test_set,Y_4m_test_model_scratch ,color=\"green\", label='scratch Regression line')\n",
    "plt.legend(fontsize=20)"
   ]
  },
  {
   "cell_type": "markdown",
   "metadata": {},
   "source": [
    "## 6.11  Projects on Real Data Set\n",
    "#### links to be added here after atleast 1 algo is covered for each Data science Problems.\n",
    "                1) Regression Problems\n",
    "                2) Classification Problems\n",
    "                3) Clustering Problemssoon..."
   ]
  },
  {
   "cell_type": "code",
   "execution_count": 58,
   "metadata": {},
   "outputs": [
    {
     "name": "stdout",
     "output_type": "stream",
     "text": [
      "Wed Sep 09 12:23:55 2020       \n",
      "+-----------------------------------------------------------------------------+\n",
      "| NVIDIA-SMI 452.06       Driver Version: 452.06       CUDA Version: 11.0     |\n",
      "|-------------------------------+----------------------+----------------------+\n",
      "| GPU  Name            TCC/WDDM | Bus-Id        Disp.A | Volatile Uncorr. ECC |\n",
      "| Fan  Temp  Perf  Pwr:Usage/Cap|         Memory-Usage | GPU-Util  Compute M. |\n",
      "|===============================+======================+======================|\n",
      "|   0  GeForce GTX 1050   WDDM  | 00000000:01:00.0 Off |                  N/A |\n",
      "| N/A   41C    P8    N/A /  N/A |     77MiB /  4096MiB |      1%      Default |\n",
      "+-------------------------------+----------------------+----------------------+\n",
      "                                                                               \n",
      "+-----------------------------------------------------------------------------+\n",
      "| Processes:                                                                  |\n",
      "|  GPU   GI   CI        PID   Type   Process name                  GPU Memory |\n",
      "|        ID   ID                                                   Usage      |\n",
      "|=============================================================================|\n",
      "|  No running processes found                                                 |\n",
      "+-----------------------------------------------------------------------------+\n"
     ]
    }
   ],
   "source": [
    "!nvidia-smi"
   ]
  },
  {
   "cell_type": "code",
   "execution_count": null,
   "metadata": {},
   "outputs": [],
   "source": []
  },
  {
   "cell_type": "code",
   "execution_count": null,
   "metadata": {},
   "outputs": [],
   "source": []
  },
  {
   "cell_type": "code",
   "execution_count": null,
   "metadata": {},
   "outputs": [],
   "source": []
  },
  {
   "cell_type": "code",
   "execution_count": null,
   "metadata": {},
   "outputs": [],
   "source": []
  },
  {
   "cell_type": "code",
   "execution_count": null,
   "metadata": {},
   "outputs": [],
   "source": []
  },
  {
   "cell_type": "code",
   "execution_count": null,
   "metadata": {},
   "outputs": [],
   "source": []
  },
  {
   "cell_type": "code",
   "execution_count": null,
   "metadata": {},
   "outputs": [],
   "source": []
  },
  {
   "cell_type": "code",
   "execution_count": null,
   "metadata": {},
   "outputs": [],
   "source": []
  },
  {
   "cell_type": "code",
   "execution_count": null,
   "metadata": {},
   "outputs": [],
   "source": []
  },
  {
   "cell_type": "code",
   "execution_count": null,
   "metadata": {},
   "outputs": [],
   "source": []
  },
  {
   "cell_type": "code",
   "execution_count": null,
   "metadata": {},
   "outputs": [],
   "source": []
  }
 ],
 "metadata": {
  "kernelspec": {
   "display_name": "Python 3",
   "language": "python",
   "name": "python3"
  },
  "language_info": {
   "codemirror_mode": {
    "name": "ipython",
    "version": 3
   },
   "file_extension": ".py",
   "mimetype": "text/x-python",
   "name": "python",
   "nbconvert_exporter": "python",
   "pygments_lexer": "ipython3",
   "version": "3.7.4"
  }
 },
 "nbformat": 4,
 "nbformat_minor": 4
}
